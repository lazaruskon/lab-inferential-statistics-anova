{
 "cells": [
  {
   "cell_type": "markdown",
   "id": "aea8c85f",
   "metadata": {},
   "source": [
    "# Lab | Inferential statistics - ANOVA"
   ]
  },
  {
   "cell_type": "markdown",
   "id": "36f7362c",
   "metadata": {},
   "source": [
    "## Part 1\n",
    "\n",
    "In this activity, we will look at another example. Your task is to understand the problem and write down all the steps to set up ANOVA. After the next lesson, we will ask you to solve this problem using Python. Here are the steps that you would need to work on: - Null hypothesis - Alternate hypothesis - Level of significance - Test statistic - P-value - F table\n",
    "\n",
    "## Context\n",
    "\n",
    "Suppose you are working as an analyst in a microprocessor chip manufacturing plant. You have been given the task of analyzing a plasma etching process with respect to changing Power (in Watts) of the plasma beam. Data was collected and provided to you to conduct statistical analysis and check if changing the power of the plasma beam has any effect on the etching rate by the machine. You will conduct ANOVA and check if there is any difference in the mean etching rate for different levels of power. You can find the data anova_lab_data.xlsx file in the files_for_lab folder\n",
    "\n",
    "   * State the null hypothesis\n",
    "   * State the alternate hypothesis\n",
    "   * What is the significance level\n",
    "   * What are the degrees of freedom of model, error terms, and total DoF"
   ]
  },
  {
   "cell_type": "markdown",
   "id": "341bf904",
   "metadata": {},
   "source": [
    "## Part 2\n",
    "\n",
    "   * In this section, use Python to conduct ANOVA.\n",
    "   * What conclusions can you draw from the experiment and why?"
   ]
  },
  {
   "cell_type": "markdown",
   "id": "23a1c0f1",
   "metadata": {},
   "source": []
  },
  {
   "cell_type": "markdown",
   "id": "1cf707ec",
   "metadata": {},
   "source": [
    "## 1. Null Hypothesis / Alternate Hypothesis\n",
    "\n",
    "- Null hypothesis: There is no difference in mean of plasma etching rate for different power levels.\n",
    "- Alternative Hypothesis: There is difference between the means of plasma etching rates for different power levels."
   ]
  },
  {
   "cell_type": "markdown",
   "id": "13c45365",
   "metadata": {},
   "source": [
    "## 2. Import Data & Libraries / Basic EDA"
   ]
  },
  {
   "cell_type": "code",
   "execution_count": 2,
   "id": "5066f63c",
   "metadata": {},
   "outputs": [],
   "source": [
    "import pandas as pd\n",
    "import numpy as np\n",
    "from scipy import stats\n",
    "from scipy.stats import f_oneway"
   ]
  },
  {
   "cell_type": "code",
   "execution_count": 3,
   "id": "704006e0",
   "metadata": {
    "scrolled": false
   },
   "outputs": [
    {
     "data": {
      "text/html": [
       "<div>\n",
       "<style scoped>\n",
       "    .dataframe tbody tr th:only-of-type {\n",
       "        vertical-align: middle;\n",
       "    }\n",
       "\n",
       "    .dataframe tbody tr th {\n",
       "        vertical-align: top;\n",
       "    }\n",
       "\n",
       "    .dataframe thead th {\n",
       "        text-align: right;\n",
       "    }\n",
       "</style>\n",
       "<table border=\"1\" class=\"dataframe\">\n",
       "  <thead>\n",
       "    <tr style=\"text-align: right;\">\n",
       "      <th></th>\n",
       "      <th>Power</th>\n",
       "      <th>Etching Rate</th>\n",
       "    </tr>\n",
       "  </thead>\n",
       "  <tbody>\n",
       "    <tr>\n",
       "      <th>0</th>\n",
       "      <td>160 W</td>\n",
       "      <td>5.43</td>\n",
       "    </tr>\n",
       "    <tr>\n",
       "      <th>1</th>\n",
       "      <td>180 W</td>\n",
       "      <td>6.24</td>\n",
       "    </tr>\n",
       "    <tr>\n",
       "      <th>2</th>\n",
       "      <td>200 W</td>\n",
       "      <td>8.79</td>\n",
       "    </tr>\n",
       "    <tr>\n",
       "      <th>3</th>\n",
       "      <td>160 W</td>\n",
       "      <td>5.71</td>\n",
       "    </tr>\n",
       "    <tr>\n",
       "      <th>4</th>\n",
       "      <td>180 W</td>\n",
       "      <td>6.71</td>\n",
       "    </tr>\n",
       "    <tr>\n",
       "      <th>5</th>\n",
       "      <td>200 W</td>\n",
       "      <td>9.20</td>\n",
       "    </tr>\n",
       "    <tr>\n",
       "      <th>6</th>\n",
       "      <td>160 W</td>\n",
       "      <td>6.22</td>\n",
       "    </tr>\n",
       "    <tr>\n",
       "      <th>7</th>\n",
       "      <td>180 W</td>\n",
       "      <td>5.98</td>\n",
       "    </tr>\n",
       "    <tr>\n",
       "      <th>8</th>\n",
       "      <td>200 W</td>\n",
       "      <td>7.90</td>\n",
       "    </tr>\n",
       "    <tr>\n",
       "      <th>9</th>\n",
       "      <td>160 W</td>\n",
       "      <td>6.01</td>\n",
       "    </tr>\n",
       "    <tr>\n",
       "      <th>10</th>\n",
       "      <td>180 W</td>\n",
       "      <td>5.66</td>\n",
       "    </tr>\n",
       "    <tr>\n",
       "      <th>11</th>\n",
       "      <td>200 W</td>\n",
       "      <td>8.15</td>\n",
       "    </tr>\n",
       "    <tr>\n",
       "      <th>12</th>\n",
       "      <td>160 W</td>\n",
       "      <td>5.59</td>\n",
       "    </tr>\n",
       "    <tr>\n",
       "      <th>13</th>\n",
       "      <td>180 W</td>\n",
       "      <td>6.60</td>\n",
       "    </tr>\n",
       "    <tr>\n",
       "      <th>14</th>\n",
       "      <td>200 W</td>\n",
       "      <td>7.55</td>\n",
       "    </tr>\n",
       "  </tbody>\n",
       "</table>\n",
       "</div>"
      ],
      "text/plain": [
       "   Power   Etching Rate\n",
       "0   160 W          5.43\n",
       "1   180 W          6.24\n",
       "2   200 W          8.79\n",
       "3   160 W          5.71\n",
       "4   180 W          6.71\n",
       "5   200 W          9.20\n",
       "6   160 W          6.22\n",
       "7   180 W          5.98\n",
       "8   200 W          7.90\n",
       "9   160 W          6.01\n",
       "10  180 W          5.66\n",
       "11  200 W          8.15\n",
       "12  160 W          5.59\n",
       "13  180 W          6.60\n",
       "14  200 W          7.55"
      ]
     },
     "execution_count": 3,
     "metadata": {},
     "output_type": "execute_result"
    }
   ],
   "source": [
    "path = r'C:\\Users\\lazar\\OneDrive\\Bureaublad\\Vizo\\Ironhack\\Unit 7\\Week 17\\Lab 17.5\\lab-inferential-statistics-anova\\files_for_lab'\n",
    "\n",
    "data = pd.read_excel(path + \"/anova_lab_data.xlsx\")\n",
    "data"
   ]
  },
  {
   "cell_type": "code",
   "execution_count": 4,
   "id": "7e2ceb83",
   "metadata": {},
   "outputs": [
    {
     "data": {
      "text/plain": [
       "Index(['Power ', 'Etching Rate'], dtype='object')"
      ]
     },
     "execution_count": 4,
     "metadata": {},
     "output_type": "execute_result"
    }
   ],
   "source": [
    "data.columns"
   ]
  },
  {
   "cell_type": "code",
   "execution_count": 5,
   "id": "6012e7c5",
   "metadata": {},
   "outputs": [
    {
     "name": "stdout",
     "output_type": "stream",
     "text": [
      "<class 'pandas.core.frame.DataFrame'>\n",
      "RangeIndex: 15 entries, 0 to 14\n",
      "Data columns (total 2 columns):\n",
      " #   Column        Non-Null Count  Dtype  \n",
      "---  ------        --------------  -----  \n",
      " 0   Power         15 non-null     object \n",
      " 1   Etching Rate  15 non-null     float64\n",
      "dtypes: float64(1), object(1)\n",
      "memory usage: 368.0+ bytes\n"
     ]
    }
   ],
   "source": [
    "data.info()\n",
    "\n",
    "# feature column requires some cleaning before we can run any tests to check our hypotheses"
   ]
  },
  {
   "cell_type": "markdown",
   "id": "8e664176",
   "metadata": {},
   "source": [
    "## 2.1. Degrees of Freedom"
   ]
  },
  {
   "cell_type": "code",
   "execution_count": 11,
   "id": "dbea5de1",
   "metadata": {},
   "outputs": [
    {
     "name": "stdout",
     "output_type": "stream",
     "text": [
      "Total Degrees of Freedom:  14\n",
      "Class Degrees of Freedom:  2\n"
     ]
    }
   ],
   "source": [
    "# calculating degrees of freedom\n",
    "\n",
    "total_DoF = len(data[\"Etching Rate\"]) - 1\n",
    "DoF_groups = len(data['Power '].unique()) - 1\n",
    "\n",
    "print(\"Total Degrees of Freedom: \", total_DoF)\n",
    "print(\"Class Degrees of Freedom: \", DoF_groups)"
   ]
  },
  {
   "cell_type": "markdown",
   "id": "7074b0f0",
   "metadata": {},
   "source": [
    "## 3. Cleaning Data"
   ]
  },
  {
   "cell_type": "code",
   "execution_count": 14,
   "id": "4d09b5ed",
   "metadata": {
    "scrolled": true
   },
   "outputs": [],
   "source": [
    "# function to clean feature power\n",
    "\n",
    "def power_clean(x):\n",
    "    x = x.replace(' W', \"\")\n",
    "    x = x.replace('W', \"\")\n",
    "    x = int(x)\n",
    "\n",
    "    return x"
   ]
  },
  {
   "cell_type": "code",
   "execution_count": 15,
   "id": "d188c724",
   "metadata": {},
   "outputs": [],
   "source": [
    "data['Power '] = list(map(power_clean,data['Power ']))"
   ]
  },
  {
   "cell_type": "code",
   "execution_count": 30,
   "id": "3e145768",
   "metadata": {},
   "outputs": [
    {
     "data": {
      "text/html": [
       "<div>\n",
       "<style scoped>\n",
       "    .dataframe tbody tr th:only-of-type {\n",
       "        vertical-align: middle;\n",
       "    }\n",
       "\n",
       "    .dataframe tbody tr th {\n",
       "        vertical-align: top;\n",
       "    }\n",
       "\n",
       "    .dataframe thead th {\n",
       "        text-align: right;\n",
       "    }\n",
       "</style>\n",
       "<table border=\"1\" class=\"dataframe\">\n",
       "  <thead>\n",
       "    <tr style=\"text-align: right;\">\n",
       "      <th></th>\n",
       "      <th>Power</th>\n",
       "      <th>Etching Rate</th>\n",
       "    </tr>\n",
       "  </thead>\n",
       "  <tbody>\n",
       "    <tr>\n",
       "      <th>0</th>\n",
       "      <td>160</td>\n",
       "      <td>5.43</td>\n",
       "    </tr>\n",
       "    <tr>\n",
       "      <th>1</th>\n",
       "      <td>180</td>\n",
       "      <td>6.24</td>\n",
       "    </tr>\n",
       "    <tr>\n",
       "      <th>2</th>\n",
       "      <td>200</td>\n",
       "      <td>8.79</td>\n",
       "    </tr>\n",
       "    <tr>\n",
       "      <th>3</th>\n",
       "      <td>160</td>\n",
       "      <td>5.71</td>\n",
       "    </tr>\n",
       "    <tr>\n",
       "      <th>4</th>\n",
       "      <td>180</td>\n",
       "      <td>6.71</td>\n",
       "    </tr>\n",
       "    <tr>\n",
       "      <th>5</th>\n",
       "      <td>200</td>\n",
       "      <td>9.20</td>\n",
       "    </tr>\n",
       "    <tr>\n",
       "      <th>6</th>\n",
       "      <td>160</td>\n",
       "      <td>6.22</td>\n",
       "    </tr>\n",
       "    <tr>\n",
       "      <th>7</th>\n",
       "      <td>180</td>\n",
       "      <td>5.98</td>\n",
       "    </tr>\n",
       "    <tr>\n",
       "      <th>8</th>\n",
       "      <td>200</td>\n",
       "      <td>7.90</td>\n",
       "    </tr>\n",
       "    <tr>\n",
       "      <th>9</th>\n",
       "      <td>160</td>\n",
       "      <td>6.01</td>\n",
       "    </tr>\n",
       "    <tr>\n",
       "      <th>10</th>\n",
       "      <td>180</td>\n",
       "      <td>5.66</td>\n",
       "    </tr>\n",
       "    <tr>\n",
       "      <th>11</th>\n",
       "      <td>200</td>\n",
       "      <td>8.15</td>\n",
       "    </tr>\n",
       "    <tr>\n",
       "      <th>12</th>\n",
       "      <td>160</td>\n",
       "      <td>5.59</td>\n",
       "    </tr>\n",
       "    <tr>\n",
       "      <th>13</th>\n",
       "      <td>180</td>\n",
       "      <td>6.60</td>\n",
       "    </tr>\n",
       "    <tr>\n",
       "      <th>14</th>\n",
       "      <td>200</td>\n",
       "      <td>7.55</td>\n",
       "    </tr>\n",
       "  </tbody>\n",
       "</table>\n",
       "</div>"
      ],
      "text/plain": [
       "    Power   Etching Rate\n",
       "0      160          5.43\n",
       "1      180          6.24\n",
       "2      200          8.79\n",
       "3      160          5.71\n",
       "4      180          6.71\n",
       "5      200          9.20\n",
       "6      160          6.22\n",
       "7      180          5.98\n",
       "8      200          7.90\n",
       "9      160          6.01\n",
       "10     180          5.66\n",
       "11     200          8.15\n",
       "12     160          5.59\n",
       "13     180          6.60\n",
       "14     200          7.55"
      ]
     },
     "execution_count": 30,
     "metadata": {},
     "output_type": "execute_result"
    }
   ],
   "source": [
    "data # sanity check"
   ]
  },
  {
   "cell_type": "code",
   "execution_count": 33,
   "id": "f86a12fe",
   "metadata": {},
   "outputs": [
    {
     "data": {
      "text/plain": [
       "(    Power   Etching Rate\n",
       " 0      160          5.43\n",
       " 3      160          5.71\n",
       " 6      160          6.22\n",
       " 9      160          6.01\n",
       " 12     160          5.59,\n",
       "     Power   Etching Rate\n",
       " 1      180          6.24\n",
       " 4      180          6.71\n",
       " 7      180          5.98\n",
       " 10     180          5.66\n",
       " 13     180          6.60,\n",
       "     Power   Etching Rate\n",
       " 2      200          8.79\n",
       " 5      200          9.20\n",
       " 8      200          7.90\n",
       " 11     200          8.15\n",
       " 14     200          7.55)"
      ]
     },
     "execution_count": 33,
     "metadata": {},
     "output_type": "execute_result"
    }
   ],
   "source": [
    "# finding etching rates for the three power levels\n",
    "\n",
    "power_160 = data[data['Power '] == 160]\n",
    "power_180 = data[data['Power '] == 180]\n",
    "power_200 = data[data['Power '] == 200]\n",
    "\n",
    "power_160, power_180, power_200 #sanity check"
   ]
  },
  {
   "cell_type": "code",
   "execution_count": 34,
   "id": "907cec81",
   "metadata": {},
   "outputs": [],
   "source": [
    "# dropping the power column\n",
    "\n",
    "power_160 = power_160.drop('Power ', axis=1).to_numpy()\n",
    "power_180 = power_180.drop('Power ', axis=1).to_numpy()\n",
    "power_200 = power_200.drop('Power ', axis=1).to_numpy()"
   ]
  },
  {
   "cell_type": "code",
   "execution_count": 42,
   "id": "b75dd2db",
   "metadata": {},
   "outputs": [
    {
     "name": "stdout",
     "output_type": "stream",
     "text": [
      "Average etching rate for 160W:  5.792\n",
      "Average etching rate for 180W:  6.238\n",
      "Average etching rate for 200W:  8.318\n"
     ]
    }
   ],
   "source": [
    "# we can finally get the means of etchin rates per power level\n",
    "\n",
    "print(\"Average etching rate for 160W: \", round(power_160.mean(), 3))\n",
    "print(\"Average etching rate for 180W: \", round(power_180.mean(), 3))\n",
    "print(\"Average etching rate for 200W: \", round(power_200.mean(), 3))"
   ]
  },
  {
   "cell_type": "markdown",
   "id": "b2c8d5f3",
   "metadata": {},
   "source": [
    "## 4. ANOVA"
   ]
  },
  {
   "cell_type": "code",
   "execution_count": 43,
   "id": "401eb0d4",
   "metadata": {},
   "outputs": [
    {
     "data": {
      "text/plain": [
       "array([7.50658427e-06])"
      ]
     },
     "execution_count": 43,
     "metadata": {},
     "output_type": "execute_result"
    }
   ],
   "source": [
    "# implementing one way ANOVA\n",
    "\n",
    "F_critical, p_value = stats.f_oneway(power_160, power_180, power_200)\n",
    "p_value"
   ]
  },
  {
   "cell_type": "code",
   "execution_count": 45,
   "id": "83f6b6c9",
   "metadata": {},
   "outputs": [
    {
     "name": "stdout",
     "output_type": "stream",
     "text": [
      "Reject H0: There is statistically important difference between the means of plasma etching rates for various power levels\n"
     ]
    }
   ],
   "source": [
    "if p_value < 0.05:\n",
    "    print(\"Reject H0: There is statistically important difference between the means of plasma etching rates for various power levels\")\n",
    "else:\n",
    "    print(\"Not enough evidence to reject H0: the means are the same\")"
   ]
  },
  {
   "cell_type": "markdown",
   "id": "a405ad62",
   "metadata": {},
   "source": [
    "**Conclusion:** The goal of the project was to analyze a plasma etching process with respect to changing Power (in Watts) of the plasma beam. Specifically, we wanted to see if changing the power of the plasma beam has any effect on the etching rate by the machine. After conducting a one-way ANOVA we can conclude that there is statistically important difference between the three power levels (160W, 180W, 200W)."
   ]
  }
 ],
 "metadata": {
  "kernelspec": {
   "display_name": "Python 3 (ipykernel)",
   "language": "python",
   "name": "python3"
  },
  "language_info": {
   "codemirror_mode": {
    "name": "ipython",
    "version": 3
   },
   "file_extension": ".py",
   "mimetype": "text/x-python",
   "name": "python",
   "nbconvert_exporter": "python",
   "pygments_lexer": "ipython3",
   "version": "3.9.12"
  }
 },
 "nbformat": 4,
 "nbformat_minor": 5
}
